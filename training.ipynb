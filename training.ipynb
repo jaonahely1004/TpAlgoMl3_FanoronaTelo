{
 "cells": [
  {
   "cell_type": "code",
   "execution_count": 5,
   "id": "3a1263e5-1a4e-481a-9ad0-05f9c7e3dc1e",
   "metadata": {},
   "outputs": [
    {
     "name": "stdout",
     "output_type": "stream",
     "text": [
      "Régression Logistique :\n",
      "Rapport de classification :\n",
      "               precision    recall  f1-score   support\n",
      "\n",
      "           0       0.52      0.58      0.55       101\n",
      "           1       0.52      0.45      0.48       100\n",
      "\n",
      "    accuracy                           0.52       201\n",
      "   macro avg       0.52      0.52      0.52       201\n",
      "weighted avg       0.52      0.52      0.52       201\n",
      "\n",
      "Accuracy : 0.5174129353233831\n",
      "Matrice de confusion :\n",
      " [[59 42]\n",
      " [55 45]]\n",
      "\n",
      "KNN :\n",
      "Rapport de classification :\n",
      "               precision    recall  f1-score   support\n",
      "\n",
      "           0       0.53      0.70      0.60       101\n",
      "           1       0.55      0.36      0.43       100\n",
      "\n",
      "    accuracy                           0.53       201\n",
      "   macro avg       0.54      0.53      0.52       201\n",
      "weighted avg       0.54      0.53      0.52       201\n",
      "\n",
      "Accuracy : 0.5323383084577115\n",
      "Matrice de confusion :\n",
      " [[71 30]\n",
      " [64 36]]\n"
     ]
    }
   ],
   "source": [
    "import pandas as pd\n",
    "from sklearn.model_selection import train_test_split\n",
    "from sklearn.linear_model import LogisticRegression\n",
    "from sklearn.neighbors import KNeighborsClassifier\n",
    "from sklearn.metrics import classification_report, accuracy_score, confusion_matrix\n",
    "\n",
    "# Charger le dataset\n",
    "df = pd.read_csv(\"dataset.csv\")\n",
    "df['Label'] = df['Label'].fillna(-1)\n",
    "df.iloc[:, :-1] = df.iloc[:, :-1].replace({'X': 1, 'O': 0, ' ': -1})\n",
    "# Préparer les données\n",
    "X = df.iloc[:, :-1]  # Caractéristiques (C1 à C9)\n",
    "y = df[\"Label\"]  # Étiquettes (0 ou 1)\n",
    "\n",
    "# Diviser les données en ensembles d'entraînement et de test\n",
    "X_train, X_test, y_train, y_test = train_test_split(\n",
    "    X, y, test_size=0.2, random_state=42, stratify=y\n",
    ")\n",
    "\n",
    "# 1. Régression Logistique\n",
    "logreg = LogisticRegression(max_iter=1000)  # Augmenter max_iter si nécessaire\n",
    "logreg.fit(X_train, y_train)\n",
    "y_pred_logreg = logreg.predict(X_test)\n",
    "\n",
    "print(\"Régression Logistique :\")\n",
    "print(\"Rapport de classification :\\n\", classification_report(y_test, y_pred_logreg))\n",
    "print(\"Accuracy :\", accuracy_score(y_test, y_pred_logreg))\n",
    "print(\"Matrice de confusion :\\n\", confusion_matrix(y_test, y_pred_logreg))\n",
    "\n",
    "# 2. KNN\n",
    "knn = KNeighborsClassifier(n_neighbors=5)  # Choisir un nombre de voisins (k)\n",
    "knn.fit(X_train, y_train)\n",
    "y_pred_knn = knn.predict(X_test)\n",
    "\n",
    "print(\"\\nKNN :\")\n",
    "print(\"Rapport de classification :\\n\", classification_report(y_test, y_pred_knn))\n",
    "print(\"Accuracy :\", accuracy_score(y_test, y_pred_knn))\n",
    "print(\"Matrice de confusion :\\n\", confusion_matrix(y_test, y_pred_knn))"
   ]
  },
  {
   "cell_type": "code",
   "execution_count": null,
   "id": "22ef81ab-252c-42b0-abfe-7930eb2ddd11",
   "metadata": {},
   "outputs": [],
   "source": []
  }
 ],
 "metadata": {
  "kernelspec": {
   "display_name": "Python 3 (ipykernel)",
   "language": "python",
   "name": "python3"
  },
  "language_info": {
   "codemirror_mode": {
    "name": "ipython",
    "version": 3
   },
   "file_extension": ".py",
   "mimetype": "text/x-python",
   "name": "python",
   "nbconvert_exporter": "python",
   "pygments_lexer": "ipython3",
   "version": "3.13.0"
  }
 },
 "nbformat": 4,
 "nbformat_minor": 5
}
